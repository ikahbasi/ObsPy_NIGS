{
 "cells": [
  {
   "cell_type": "markdown",
   "id": "950218fe",
   "metadata": {},
   "source": [
    "obspy-scan"
   ]
  },
  {
   "cell_type": "markdown",
   "id": "c7bca38a",
   "metadata": {},
   "source": [
    "obspy-plot"
   ]
  },
  {
   "cell_type": "markdown",
   "id": "e31cff1a",
   "metadata": {},
   "source": [
    "obspy-print"
   ]
  }
 ],
 "metadata": {
  "kernelspec": {
   "display_name": "Python 3 (ipykernel)",
   "language": "python",
   "name": "python3"
  },
  "language_info": {
   "codemirror_mode": {
    "name": "ipython",
    "version": 3
   },
   "file_extension": ".py",
   "mimetype": "text/x-python",
   "name": "python",
   "nbconvert_exporter": "python",
   "pygments_lexer": "ipython3",
   "version": "3.9.6"
  }
 },
 "nbformat": 4,
 "nbformat_minor": 5
}
