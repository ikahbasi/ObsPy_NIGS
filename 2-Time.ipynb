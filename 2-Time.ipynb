{
 "cells": [
  {
   "cell_type": "markdown",
   "metadata": {},
   "source": [
    "# UTCDateTime"
   ]
  },
  {
   "cell_type": "code",
   "execution_count": 2,
   "metadata": {},
   "outputs": [
    {
     "name": "stdout",
     "output_type": "stream",
     "text": [
      "2022-02-21T10:10:10.000000Z\n"
     ]
    }
   ],
   "source": [
    "from obspy import UTCDateTime\n",
    "t1 = UTCDateTime('2022-02-21T10:10:10')\n",
    "print(t1)"
   ]
  },
  {
   "cell_type": "code",
   "execution_count": 2,
   "metadata": {},
   "outputs": [
    {
     "name": "stdout",
     "output_type": "stream",
     "text": [
      "2022-02-21T15:10:10.000000Z\n"
     ]
    }
   ],
   "source": [
    "from obspy import UTCDateTime as utc\n",
    "t2 = utc('2022-02-21T15:10:10')\n",
    "print(t2)"
   ]
  },
  {
   "cell_type": "markdown",
   "metadata": {},
   "source": [
    "# datetime"
   ]
  },
  {
   "cell_type": "code",
   "execution_count": 4,
   "metadata": {},
   "outputs": [
    {
     "name": "stdout",
     "output_type": "stream",
     "text": [
      "2011-11-04 00:00:00\n",
      "2015-11-12 02:03:04.000005\n"
     ]
    }
   ],
   "source": [
    "import datetime\n",
    "t3 = datetime.datetime(2011, 11, 4, 0, 0)\n",
    "t4 = datetime.datetime(year=2015, month=11, day=12, hour=2, minute=3, second=4, microsecond=5)\n",
    "print(t3)\n",
    "print(t4)"
   ]
  },
  {
   "cell_type": "markdown",
   "metadata": {},
   "source": [
    "# UTCDateTime and datetime"
   ]
  },
  {
   "cell_type": "code",
   "execution_count": 7,
   "metadata": {},
   "outputs": [
    {
     "name": "stdout",
     "output_type": "stream",
     "text": [
      "2022-02-21 15:10:10\n",
      "<class 'obspy.core.utcdatetime.UTCDateTime'>\n",
      "<class 'datetime.datetime'>\n"
     ]
    }
   ],
   "source": [
    "t5 = t2.datetime\n",
    "print(t5)\n",
    "\n",
    "print(type(t2))\n",
    "print(type(t5))"
   ]
  },
  {
   "cell_type": "markdown",
   "metadata": {},
   "source": [
    "# format string datetime"
   ]
  },
  {
   "cell_type": "code",
   "execution_count": 12,
   "metadata": {},
   "outputs": [
    {
     "name": "stdout",
     "output_type": "stream",
     "text": [
      "2022-02-21 15:10:10\n",
      "2022-02-21 15:10:10\n",
      "<class 'str'>\n"
     ]
    }
   ],
   "source": [
    "print(t5)\n",
    "string = t5.strftime(\"%Y-%m-%d %H:%M:%S\")\n",
    "print(string)\n",
    "print(type(t5))\n",
    "print(type(string))"
   ]
  },
  {
   "cell_type": "markdown",
   "metadata": {},
   "source": [
    "# Now"
   ]
  },
  {
   "cell_type": "code",
   "execution_count": 16,
   "metadata": {},
   "outputs": [],
   "source": [
    "now1utc = utc()\n",
    "now1dat = datetime.datetime.now()"
   ]
  },
  {
   "cell_type": "code",
   "execution_count": 17,
   "metadata": {},
   "outputs": [
    {
     "name": "stdout",
     "output_type": "stream",
     "text": [
      "2022-02-21T09:04:03.214656Z\n",
      "2022-02-21 12:34:03.214655\n"
     ]
    }
   ],
   "source": [
    "print(now1utc)\n",
    "print(now1dat)"
   ]
  },
  {
   "cell_type": "code",
   "execution_count": 18,
   "metadata": {},
   "outputs": [],
   "source": [
    "now2utc = utc()\n",
    "now2dat = datetime.datetime.now()"
   ]
  },
  {
   "cell_type": "code",
   "execution_count": 19,
   "metadata": {},
   "outputs": [
    {
     "name": "stdout",
     "output_type": "stream",
     "text": [
      "13.905584\n",
      "0:00:13.905585\n"
     ]
    }
   ],
   "source": [
    "print(now2utc - now1utc)\n",
    "print(now2dat - now1dat)"
   ]
  }
 ],
 "metadata": {
  "kernelspec": {
   "display_name": "Python 3 (ipykernel)",
   "language": "python",
   "name": "python3"
  },
  "language_info": {
   "codemirror_mode": {
    "name": "ipython",
    "version": 3
   },
   "file_extension": ".py",
   "mimetype": "text/x-python",
   "name": "python",
   "nbconvert_exporter": "python",
   "pygments_lexer": "ipython3",
   "version": "3.9.1"
  }
 },
 "nbformat": 4,
 "nbformat_minor": 2
}
